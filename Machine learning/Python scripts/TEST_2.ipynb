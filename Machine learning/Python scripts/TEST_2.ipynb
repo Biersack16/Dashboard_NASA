{
 "cells": [
  {
   "cell_type": "code",
   "execution_count": 27,
   "metadata": {},
   "outputs": [],
   "source": [
    "import pandas as pd\n",
    "import geopandas as gpd"
   ]
  },
  {
   "cell_type": "code",
   "execution_count": 28,
   "metadata": {},
   "outputs": [],
   "source": [
    "us_cities_path = \"DATASETS/USA_Cities_Towns.csv\""
   ]
  },
  {
   "cell_type": "code",
   "execution_count": 31,
   "metadata": {
    "scrolled": true
   },
   "outputs": [
    {
     "data": {
      "text/html": [
       "<div>\n",
       "<style scoped>\n",
       "    .dataframe tbody tr th:only-of-type {\n",
       "        vertical-align: middle;\n",
       "    }\n",
       "\n",
       "    .dataframe tbody tr th {\n",
       "        vertical-align: top;\n",
       "    }\n",
       "\n",
       "    .dataframe thead th {\n",
       "        text-align: right;\n",
       "    }\n",
       "</style>\n",
       "<table border=\"1\" class=\"dataframe\">\n",
       "  <thead>\n",
       "    <tr style=\"text-align: right;\">\n",
       "      <th></th>\n",
       "      <th>X</th>\n",
       "      <th>Y</th>\n",
       "      <th>AREANAME</th>\n",
       "      <th>CLASS</th>\n",
       "      <th>ST</th>\n",
       "    </tr>\n",
       "  </thead>\n",
       "  <tbody>\n",
       "    <tr>\n",
       "      <td>0</td>\n",
       "      <td>-85.253615</td>\n",
       "      <td>31.568118</td>\n",
       "      <td>Abbeville</td>\n",
       "      <td>city</td>\n",
       "      <td>AL</td>\n",
       "    </tr>\n",
       "    <tr>\n",
       "      <td>1</td>\n",
       "      <td>-86.957988</td>\n",
       "      <td>33.595648</td>\n",
       "      <td>Adamsville</td>\n",
       "      <td>city</td>\n",
       "      <td>AL</td>\n",
       "    </tr>\n",
       "    <tr>\n",
       "      <td>2</td>\n",
       "      <td>-87.177933</td>\n",
       "      <td>34.200042</td>\n",
       "      <td>Addison</td>\n",
       "      <td>town</td>\n",
       "      <td>AL</td>\n",
       "    </tr>\n",
       "    <tr>\n",
       "      <td>3</td>\n",
       "      <td>-87.738789</td>\n",
       "      <td>32.876246</td>\n",
       "      <td>Akron</td>\n",
       "      <td>town</td>\n",
       "      <td>AL</td>\n",
       "    </tr>\n",
       "    <tr>\n",
       "      <td>4</td>\n",
       "      <td>-86.824609</td>\n",
       "      <td>33.226662</td>\n",
       "      <td>Alabaster</td>\n",
       "      <td>city</td>\n",
       "      <td>AL</td>\n",
       "    </tr>\n",
       "  </tbody>\n",
       "</table>\n",
       "</div>"
      ],
      "text/plain": [
       "           X          Y    AREANAME CLASS  ST\n",
       "0 -85.253615  31.568118   Abbeville  city  AL\n",
       "1 -86.957988  33.595648  Adamsville  city  AL\n",
       "2 -87.177933  34.200042     Addison  town  AL\n",
       "3 -87.738789  32.876246       Akron  town  AL\n",
       "4 -86.824609  33.226662   Alabaster  city  AL"
      ]
     },
     "execution_count": 31,
     "metadata": {},
     "output_type": "execute_result"
    }
   ],
   "source": [
    "us_cities = pd.read_csv(us_cities_path)\n",
    "us_cities.head()"
   ]
  },
  {
   "cell_type": "code",
   "execution_count": 32,
   "metadata": {},
   "outputs": [
    {
     "data": {
      "text/html": [
       "<div>\n",
       "<style scoped>\n",
       "    .dataframe tbody tr th:only-of-type {\n",
       "        vertical-align: middle;\n",
       "    }\n",
       "\n",
       "    .dataframe tbody tr th {\n",
       "        vertical-align: top;\n",
       "    }\n",
       "\n",
       "    .dataframe thead th {\n",
       "        text-align: right;\n",
       "    }\n",
       "</style>\n",
       "<table border=\"1\" class=\"dataframe\">\n",
       "  <thead>\n",
       "    <tr style=\"text-align: right;\">\n",
       "      <th></th>\n",
       "      <th>X</th>\n",
       "      <th>Y</th>\n",
       "      <th>AREANAME</th>\n",
       "      <th>CLASS</th>\n",
       "      <th>ST</th>\n",
       "      <th>geometry</th>\n",
       "    </tr>\n",
       "  </thead>\n",
       "  <tbody>\n",
       "    <tr>\n",
       "      <td>0</td>\n",
       "      <td>-85.253615</td>\n",
       "      <td>31.568118</td>\n",
       "      <td>Abbeville</td>\n",
       "      <td>city</td>\n",
       "      <td>AL</td>\n",
       "      <td>POINT (-85.25361 31.56812)</td>\n",
       "    </tr>\n",
       "    <tr>\n",
       "      <td>1</td>\n",
       "      <td>-86.957988</td>\n",
       "      <td>33.595648</td>\n",
       "      <td>Adamsville</td>\n",
       "      <td>city</td>\n",
       "      <td>AL</td>\n",
       "      <td>POINT (-86.95799 33.59565)</td>\n",
       "    </tr>\n",
       "    <tr>\n",
       "      <td>2</td>\n",
       "      <td>-87.177933</td>\n",
       "      <td>34.200042</td>\n",
       "      <td>Addison</td>\n",
       "      <td>town</td>\n",
       "      <td>AL</td>\n",
       "      <td>POINT (-87.17793 34.20004)</td>\n",
       "    </tr>\n",
       "    <tr>\n",
       "      <td>3</td>\n",
       "      <td>-87.738789</td>\n",
       "      <td>32.876246</td>\n",
       "      <td>Akron</td>\n",
       "      <td>town</td>\n",
       "      <td>AL</td>\n",
       "      <td>POINT (-87.73879 32.87625)</td>\n",
       "    </tr>\n",
       "    <tr>\n",
       "      <td>4</td>\n",
       "      <td>-86.824609</td>\n",
       "      <td>33.226662</td>\n",
       "      <td>Alabaster</td>\n",
       "      <td>city</td>\n",
       "      <td>AL</td>\n",
       "      <td>POINT (-86.82461 33.22666)</td>\n",
       "    </tr>\n",
       "  </tbody>\n",
       "</table>\n",
       "</div>"
      ],
      "text/plain": [
       "           X          Y    AREANAME CLASS  ST                    geometry\n",
       "0 -85.253615  31.568118   Abbeville  city  AL  POINT (-85.25361 31.56812)\n",
       "1 -86.957988  33.595648  Adamsville  city  AL  POINT (-86.95799 33.59565)\n",
       "2 -87.177933  34.200042     Addison  town  AL  POINT (-87.17793 34.20004)\n",
       "3 -87.738789  32.876246       Akron  town  AL  POINT (-87.73879 32.87625)\n",
       "4 -86.824609  33.226662   Alabaster  city  AL  POINT (-86.82461 33.22666)"
      ]
     },
     "execution_count": 32,
     "metadata": {},
     "output_type": "execute_result"
    }
   ],
   "source": [
    "us_cities_geo = gpd.GeoDataFrame(us_cities, geometry=gpd.points_from_xy(us_cities[\"X\"], us_cities[\"Y\"]))\n",
    "us_cities_geo.crs = {'init': 'epsg:4326'}\n",
    "us_cities_geo.head()"
   ]
  },
  {
   "cell_type": "code",
   "execution_count": 34,
   "metadata": {},
   "outputs": [
    {
     "data": {
      "image/png": "[encoded data removed]",
      "text/plain": [
       "<Figure size 720x720 with 1 Axes>"
      ]
     },
     "metadata": {
      "needs_background": "light"
     },
     "output_type": "display_data"
    }
   ],
   "source": [
    "ax = us_cities_geo.plot(figsize=(10,10))"
   ]
  },
  {
   "cell_type": "code",
   "execution_count": null,
   "metadata": {},
   "outputs": [],
   "source": []
  },
  {
   "cell_type": "code",
   "execution_count": null,
   "metadata": {},
   "outputs": [],
   "source": []
  }
 ],
 "metadata": {
  "kernelspec": {
   "display_name": "Python 3",
   "language": "python",
   "name": "python3"
  },
  "language_info": {
   "codemirror_mode": {
    "name": "ipython",
    "version": 3
   },
   "file_extension": ".py",
   "mimetype": "text/x-python",
   "name": "python",
   "nbconvert_exporter": "python",
   "pygments_lexer": "ipython3",
   "version": "3.7.4"
  }
 },
 "nbformat": 4,
 "nbformat_minor": 2
}
